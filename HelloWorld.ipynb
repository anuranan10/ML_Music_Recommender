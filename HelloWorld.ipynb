{
 "cells": [
  {
   "cell_type": "code",
   "execution_count": 49,
   "id": "2e9e396b-a6f6-4f1c-9c57-e1e9d9d81c38",
   "metadata": {},
   "outputs": [
    {
     "data": {
      "text/plain": [
       "1.0"
      ]
     },
     "execution_count": 49,
     "metadata": {},
     "output_type": "execute_result"
    }
   ],
   "source": [
    "import pandas as pd #for handling data in DataFrame format\n",
    "from sklearn.tree import DecisionTreeClassifier #model/algo\n",
    "from sklearn.model_selection import train_test_split #splitting the data into training and testing sets\n",
    "from sklearn.metrics import accuracy_score #evaluating the accuracy of the model\n",
    "\n",
    "music_data = pd.read_csv('music.csv') #read the 'music.csv' file into a pandas DataFrame\n",
    "\n",
    "X = music_data.drop(columns=['genre']) #input\n",
    "Y = music_data['genre'] #output\n",
    "\n",
    "#split the data into training and testing sets\n",
    "X_train, X_test, Y_train, Y_test = train_test_split(X, Y, test_size=0.2) #20% data for testing\n",
    "\n",
    "model = DecisionTreeClassifier() #initialize the Decision Tree classifier\n",
    "model.fit(X_train, Y_train) #training\n",
    "predictions = model.predict(X_test) #use the model to predict the labels for the test data (X_test)\n",
    "\n",
    "score = accuracy_score(Y_test, predictions)\n",
    "score"
   ]
  },
  {
   "cell_type": "code",
   "execution_count": 41,
   "id": "237e113f-dbcf-4cb1-a3fd-1efbc6b1d925",
   "metadata": {},
   "outputs": [
    {
     "name": "stderr",
     "output_type": "stream",
     "text": [
      "C:\\Users\\anura\\AppData\\Local\\Programs\\Python\\Python313\\Lib\\site-packages\\sklearn\\utils\\validation.py:2739: UserWarning: X does not have valid feature names, but DecisionTreeClassifier was fitted with feature names\n",
      "  warnings.warn(\n"
     ]
    },
    {
     "data": {
      "text/plain": [
       "array(['HipHop'], dtype=object)"
      ]
     },
     "execution_count": 41,
     "metadata": {},
     "output_type": "execute_result"
    }
   ],
   "source": [
    "import pandas as pd\n",
    "from sklearn.tree import DecisionTreeClassifier\n",
    "import joblib\n",
    "\n",
    "# music_data = pd.read_csv('music.csv')\n",
    "# X = music_data.drop(columns=['genre']) #input\n",
    "# Y = music_data['genre'] #output\n",
    "\n",
    "# model = DecisionTreeClassifier()\n",
    "# model.fit(X, Y)\n",
    "\n",
    "model = joblib.load('musics-recommender.joblib')\n",
    "predictions = model.predict([ [21, 1] ])\n",
    "predictions"
   ]
  },
  {
   "cell_type": "code",
   "execution_count": 48,
   "id": "8f7d75a7-b836-4a35-b7c6-4314dc7ba127",
   "metadata": {},
   "outputs": [],
   "source": [
    "import pandas as pd\n",
    "from sklearn.tree import DecisionTreeClassifier\n",
    "from sklearn import tree\n",
    "\n",
    "music_data = pd.read_csv('music.csv')\n",
    "X = music_data.drop(columns=['genre']) #input\n",
    "Y = music_data['genre'] #output\n",
    "\n",
    "model = DecisionTreeClassifier()\n",
    "model.fit(X, Y)\n",
    "\n",
    "tree.export_graphviz(model, out_file='music-recommender.dot', feature_names=['age', 'gender'], class_names=sorted(Y.unique()), label='all', rounded=True, filled=True)"
   ]
  },
  {
   "cell_type": "code",
   "execution_count": null,
   "id": "b6702308-d952-4ff8-9713-3fed30ea6370",
   "metadata": {},
   "outputs": [],
   "source": []
  }
 ],
 "metadata": {
  "kernelspec": {
   "display_name": "Python 3 (ipykernel)",
   "language": "python",
   "name": "python3"
  },
  "language_info": {
   "codemirror_mode": {
    "name": "ipython",
    "version": 3
   },
   "file_extension": ".py",
   "mimetype": "text/x-python",
   "name": "python",
   "nbconvert_exporter": "python",
   "pygments_lexer": "ipython3",
   "version": "3.13.1"
  }
 },
 "nbformat": 4,
 "nbformat_minor": 5
}
